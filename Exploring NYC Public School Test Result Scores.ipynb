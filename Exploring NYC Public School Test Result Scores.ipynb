{
 "cells": [
  {
   "cell_type": "markdown",
   "metadata": {},
   "source": [
    "## Exploring NYC Public School Test Result Scores\n",
    "\n",
    "Every year, American high school students take SATs, which are standardized tests intended to measure literacy, numeracy, and writing skills. There are three sections - reading, math, and writing, each with a **maximum score of 800 points**. These tests are extremely important for students and colleges, as they play a pivotal role in the admissions process.\n",
    "\n",
    "Analyzing the performance of schools is important for a variety of stakeholders, including policy and education professionals, researchers, government, and even parents considering which school their children should attend. \n",
    "\n",
    "You have been provided with a dataset called `schools.csv`, which is previewed below.\n",
    "\n",
    "You have been tasked with answering three key questions about New York City (NYC) public school SAT performance."
   ]
  },
  {
   "cell_type": "code",
   "execution_count": 5,
   "metadata": {},
   "outputs": [
    {
     "data": {
      "text/html": [
       "<div>\n",
       "<style scoped>\n",
       "    .dataframe tbody tr th:only-of-type {\n",
       "        vertical-align: middle;\n",
       "    }\n",
       "\n",
       "    .dataframe tbody tr th {\n",
       "        vertical-align: top;\n",
       "    }\n",
       "\n",
       "    .dataframe thead th {\n",
       "        text-align: right;\n",
       "    }\n",
       "</style>\n",
       "<table border=\"1\" class=\"dataframe\">\n",
       "  <thead>\n",
       "    <tr style=\"text-align: right;\">\n",
       "      <th></th>\n",
       "      <th>school_name</th>\n",
       "      <th>borough</th>\n",
       "      <th>building_code</th>\n",
       "      <th>average_math</th>\n",
       "      <th>average_reading</th>\n",
       "      <th>average_writing</th>\n",
       "      <th>percent_tested</th>\n",
       "    </tr>\n",
       "  </thead>\n",
       "  <tbody>\n",
       "    <tr>\n",
       "      <th>0</th>\n",
       "      <td>New Explorations into Science, Technology and ...</td>\n",
       "      <td>Manhattan</td>\n",
       "      <td>M022</td>\n",
       "      <td>657</td>\n",
       "      <td>601</td>\n",
       "      <td>601</td>\n",
       "      <td>NaN</td>\n",
       "    </tr>\n",
       "    <tr>\n",
       "      <th>1</th>\n",
       "      <td>Essex Street Academy</td>\n",
       "      <td>Manhattan</td>\n",
       "      <td>M445</td>\n",
       "      <td>395</td>\n",
       "      <td>411</td>\n",
       "      <td>387</td>\n",
       "      <td>78.9</td>\n",
       "    </tr>\n",
       "    <tr>\n",
       "      <th>2</th>\n",
       "      <td>Lower Manhattan Arts Academy</td>\n",
       "      <td>Manhattan</td>\n",
       "      <td>M445</td>\n",
       "      <td>418</td>\n",
       "      <td>428</td>\n",
       "      <td>415</td>\n",
       "      <td>65.1</td>\n",
       "    </tr>\n",
       "    <tr>\n",
       "      <th>3</th>\n",
       "      <td>High School for Dual Language and Asian Studies</td>\n",
       "      <td>Manhattan</td>\n",
       "      <td>M445</td>\n",
       "      <td>613</td>\n",
       "      <td>453</td>\n",
       "      <td>463</td>\n",
       "      <td>95.9</td>\n",
       "    </tr>\n",
       "    <tr>\n",
       "      <th>4</th>\n",
       "      <td>Henry Street School for International Studies</td>\n",
       "      <td>Manhattan</td>\n",
       "      <td>M056</td>\n",
       "      <td>410</td>\n",
       "      <td>406</td>\n",
       "      <td>381</td>\n",
       "      <td>59.7</td>\n",
       "    </tr>\n",
       "  </tbody>\n",
       "</table>\n",
       "</div>"
      ],
      "text/plain": [
       "                                         school_name    borough building_code  \\\n",
       "0  New Explorations into Science, Technology and ...  Manhattan          M022   \n",
       "1                               Essex Street Academy  Manhattan          M445   \n",
       "2                       Lower Manhattan Arts Academy  Manhattan          M445   \n",
       "3    High School for Dual Language and Asian Studies  Manhattan          M445   \n",
       "4      Henry Street School for International Studies  Manhattan          M056   \n",
       "\n",
       "   average_math  average_reading  average_writing  percent_tested  \n",
       "0           657              601              601             NaN  \n",
       "1           395              411              387            78.9  \n",
       "2           418              428              415            65.1  \n",
       "3           613              453              463            95.9  \n",
       "4           410              406              381            59.7  "
      ]
     },
     "execution_count": 5,
     "metadata": {},
     "output_type": "execute_result"
    }
   ],
   "source": [
    "import pandas as pd\n",
    "schools = pd.read_csv('C:\\\\Users\\\\lucas\\\\Downloads\\\\schools.csv')\n",
    "schools.head()"
   ]
  },
  {
   "cell_type": "markdown",
   "metadata": {},
   "source": [
    "Which NYC schools have the best math results?"
   ]
  },
  {
   "cell_type": "code",
   "execution_count": 6,
   "metadata": {},
   "outputs": [
    {
     "name": "stdout",
     "output_type": "stream",
     "text": [
      "                                         school_name  average_math\n",
      "0                             Stuyvesant High School           754\n",
      "1                       Bronx High School of Science           714\n",
      "2                Staten Island Technical High School           711\n",
      "3  Queens High School for the Sciences at York Co...           701\n",
      "4  High School for Mathematics, Science, and Engi...           683\n",
      "5                     Brooklyn Technical High School           682\n",
      "6                        Townsend Harris High School           680\n",
      "7  High School of American Studies at Lehman College           669\n",
      "8  New Explorations into Science, Technology and ...           657\n",
      "9                      Eleanor Roosevelt High School           641\n"
     ]
    }
   ],
   "source": [
    "# Filtering best schools according to the rule, slicing columns and sorting values\n",
    "best_math_schools = schools[schools['average_math']>= (0.8 * 800)] \\\n",
    "                                    .loc[:,['school_name', 'average_math']] \\\n",
    "                                    .sort_values('average_math', ascending=False) \\\n",
    "                                    .reset_index(drop=True)\n",
    "print(best_math_schools)"
   ]
  },
  {
   "cell_type": "markdown",
   "metadata": {},
   "source": [
    "What are the top 10 performing schools based on the combined SAT scores?"
   ]
  },
  {
   "cell_type": "code",
   "execution_count": 7,
   "metadata": {},
   "outputs": [
    {
     "name": "stdout",
     "output_type": "stream",
     "text": [
      "                                           school_name    borough  \\\n",
      "0    New Explorations into Science, Technology and ...  Manhattan   \n",
      "1                                 Essex Street Academy  Manhattan   \n",
      "2                         Lower Manhattan Arts Academy  Manhattan   \n",
      "3      High School for Dual Language and Asian Studies  Manhattan   \n",
      "4        Henry Street School for International Studies  Manhattan   \n",
      "..                                                 ...        ...   \n",
      "370  Queens High School for Information, Research, ...     Queens   \n",
      "371  Rockaway Park High School for Environmental Su...     Queens   \n",
      "372                   Channel View School for Research     Queens   \n",
      "373                    Rockaway Collegiate High School     Queens   \n",
      "374                                  Scholars' Academy     Queens   \n",
      "\n",
      "    building_code  average_math  average_reading  average_writing  \\\n",
      "0            M022           657              601              601   \n",
      "1            M445           395              411              387   \n",
      "2            M445           418              428              415   \n",
      "3            M445           613              453              463   \n",
      "4            M056           410              406              381   \n",
      "..            ...           ...              ...              ...   \n",
      "370          Q465           372              362              352   \n",
      "371          Q410           357              381              376   \n",
      "372          Q410           427              430              423   \n",
      "373          Q410           399              403              405   \n",
      "374          Q180           588              560              568   \n",
      "\n",
      "     percent_tested  total_SAT  \n",
      "0               NaN       1859  \n",
      "1              78.9       1193  \n",
      "2              65.1       1261  \n",
      "3              95.9       1529  \n",
      "4              59.7       1197  \n",
      "..              ...        ...  \n",
      "370            44.6       1086  \n",
      "371            38.5       1114  \n",
      "372            76.6       1280  \n",
      "373            46.5       1207  \n",
      "374            99.2       1716  \n",
      "\n",
      "[375 rows x 8 columns]\n"
     ]
    }
   ],
   "source": [
    "# Adds the values of the columns\n",
    "schools['total_SAT'] = schools[['average_math', 'average_reading', 'average_writing']].sum(axis=1)\n",
    "print(schools)"
   ]
  },
  {
   "cell_type": "code",
   "execution_count": 11,
   "metadata": {},
   "outputs": [
    {
     "name": "stdout",
     "output_type": "stream",
     "text": [
      "                                         school_name  total_SAT\n",
      "0                             Stuyvesant High School       2144\n",
      "1                       Bronx High School of Science       2041\n",
      "2                Staten Island Technical High School       2041\n",
      "3  High School of American Studies at Lehman College       2013\n",
      "4                        Townsend Harris High School       1981\n",
      "5  Queens High School for the Sciences at York Co...       1947\n",
      "6                     Bard High School Early College       1914\n",
      "7                     Brooklyn Technical High School       1896\n",
      "8                      Eleanor Roosevelt High School       1889\n",
      "9  High School for Mathematics, Science, and Engi...       1889\n"
     ]
    }
   ],
   "source": [
    "# Finding the top 10 schools according to the total_SAT\n",
    "top_10_schools = schools.loc[:, ['school_name', 'total_SAT']] \\\n",
    "                        .sort_values('total_SAT', ascending=False) \\\n",
    "                        .reset_index(drop=True).head(10)\n",
    "print(top_10_schools)"
   ]
  },
  {
   "cell_type": "markdown",
   "metadata": {},
   "source": [
    "Which single borough has the largest standard deviation in the combined SAT score?"
   ]
  },
  {
   "cell_type": "code",
   "execution_count": 12,
   "metadata": {},
   "outputs": [
    {
     "name": "stdout",
     "output_type": "stream",
     "text": [
      "           num_schools  average_SAT  std_SAT\n",
      "borough                                     \n",
      "Manhattan           89      1340.13   230.29\n"
     ]
    }
   ],
   "source": [
    "# Performing multiple aggregations: count, mean and standard deviation\n",
    "largest_std_dev = schools.groupby('borough').agg( \\\n",
    "                                                num_schools=('school_name', 'count'), \\\n",
    "                                                average_SAT=('total_SAT', 'mean'), \\\n",
    "                                                std_SAT=('total_SAT', 'std')) \\\n",
    "                                                .sort_values('std_SAT', ascending=False).head(1)\n",
    "\n",
    "# Rounding the columns\n",
    "largest_std_dev['num_schools'] = largest_std_dev['num_schools'].round(2)\n",
    "largest_std_dev['average_SAT'] = largest_std_dev['average_SAT'].round(2)\n",
    "largest_std_dev['std_SAT'] = largest_std_dev['std_SAT'].round(2)\n",
    "\n",
    "print(largest_std_dev)"
   ]
  }
 ],
 "metadata": {
  "kernelspec": {
   "display_name": "base",
   "language": "python",
   "name": "python3"
  },
  "language_info": {
   "codemirror_mode": {
    "name": "ipython",
    "version": 3
   },
   "file_extension": ".py",
   "mimetype": "text/x-python",
   "name": "python",
   "nbconvert_exporter": "python",
   "pygments_lexer": "ipython3",
   "version": "3.11.7"
  }
 },
 "nbformat": 4,
 "nbformat_minor": 2
}
